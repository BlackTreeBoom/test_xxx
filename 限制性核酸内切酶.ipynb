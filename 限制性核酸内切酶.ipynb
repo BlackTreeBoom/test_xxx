{
 "cells": [
  {
   "cell_type": "code",
   "execution_count": 1,
   "id": "57702955",
   "metadata": {},
   "outputs": [],
   "source": [
    "DNA='gaattcctcgagctagcGGATCCcaccatggtgagcaagggcgACGCGTaggagctgttcaccggggtggtgcccatcctggtcgagctggacggcgacgtaaacggccacaagttcagcgtgtccggcgagggcgagggcgatgccacctacggcaagctgaccctgagaattcagttcatctgcaccaccggcaagGATATCctgcccgtgccctggGGATCCcccaccctcgtgaccaccctgacctacggcgtgcagtgcttcaGGATCCgccgctaccccgaccacatgaagcagcacgacttcttcaagtccgccatgcccg'"
   ]
  },
  {
   "cell_type": "code",
   "execution_count": 2,
   "id": "308e2fe6",
   "metadata": {},
   "outputs": [],
   "source": [
    "Enzyme={'EcoRI':'G/AATTC','BamHI':'G/GATCC','EcoRV':'GAT/ATC','Mlul':'A/CGCGT'}#生产限制酶字典"
   ]
  },
  {
   "cell_type": "code",
   "execution_count": 3,
   "id": "e4d1a64f",
   "metadata": {},
   "outputs": [
    {
     "name": "stdout",
     "output_type": "stream",
     "text": [
      "{'EcoRI': 'G/AATTC', 'BamHI': 'G/GATCC', 'EcoRV': 'GAT/ATC', 'Mlul': 'A/CGCGT'}\n"
     ]
    }
   ],
   "source": [
    "print(Enzyme)"
   ]
  },
  {
   "cell_type": "code",
   "execution_count": 4,
   "id": "6cc5e9bb",
   "metadata": {},
   "outputs": [
    {
     "name": "stdout",
     "output_type": "stream",
     "text": [
      "GAATTCCTCGAGCTAGCGGATCCCACCATGGTGAGCAAGGGCGACGCGTAGGAGCTGTTCACCGGGGTGGTGCCCATCCTGGTCGAGCTGGACGGCGACGTAAACGGCCACAAGTTCAGCGTGTCCGGCGAGGGCGAGGGCGATGCCACCTACGGCAAGCTGACCCTGAGAATTCAGTTCATCTGCACCACCGGCAAGGATATCCTGCCCGTGCCCTGGGGATCCCCCACCCTCGTGACCACCCTGACCTACGGCGTGCAGTGCTTCAGGATCCGCCGCTACCCCGACCACATGAAGCAGCACGACTTCTTCAAGTCCGCCATGCCCG\n"
     ]
    }
   ],
   "source": [
    "DNA_new=DNA.upper()\n",
    "print(DNA_new)"
   ]
  },
  {
   "cell_type": "code",
   "execution_count": 10,
   "id": "775e2ee6",
   "metadata": {},
   "outputs": [
    {
     "name": "stdout",
     "output_type": "stream",
     "text": [
      "2\n",
      "3\n",
      "1\n",
      "1\n"
     ]
    }
   ],
   "source": [
    "EcoRI_1 =DNA_new.count(\"GAATTC\")#计算EcoRI酶切位点数\n",
    "EcoRI_2 =DNA_new.count(\"CTTAAG\")\n",
    "print(EcoRI_1 + EcoRI_2)\n",
    "BamHI_1 =DNA_new.count(\"GGATCC\")#计算BamHI酶切位数\n",
    "BamHI_2 =DNA_new.count(\"CCTAGG\")\n",
    "print(BamHI_1+BamHI_2)\n",
    "EcoRV_1 =DNA_new.count(\"GATATC\")#计算EcoRV酶切位数\n",
    "EcoRV_2 =DNA_new.count(\"CTATAG\")\n",
    "print(EcoRV_1+EcoRV_2)\n",
    "Mlul_1 =DNA_new.count(\"ACGCGT\")#计算Mlul酶切位数\n",
    "Mlul_2 =DNA_new.count(\"TGCGCA\")\n",
    "print(Mlul_1+Mlul_2)"
   ]
  },
  {
   "cell_type": "code",
   "execution_count": 12,
   "id": "413f5ae5",
   "metadata": {},
   "outputs": [
    {
     "name": "stdout",
     "output_type": "stream",
     "text": [
      "198\n"
     ]
    }
   ],
   "source": [
    "EcoRV_cut_place=DNA_new.find('GATATC')#计算EcoRV切割位点\n",
    "print(EcoRV_cut_place)"
   ]
  },
  {
   "cell_type": "code",
   "execution_count": 13,
   "id": "ff6cddfa",
   "metadata": {},
   "outputs": [
    {
     "name": "stdout",
     "output_type": "stream",
     "text": [
      "GAATTCCTCGAGCTAGCGGATCCCACCATGGTGAGCAAGGGCGACGCGTAGGAGCTGTTCACCGGGGTGGTGCCCATCCTGGTCGAGCTGGACGGCGACGTAAACGGCCACAAGTTCAGCGTGTCCGGCGAGGGCGAGGGCGATGCCACCTACGGCAAGCTGACCCTGAGAATTCAGTTCATCTGCACCACCGGCAAG\n"
     ]
    }
   ],
   "source": [
    "EcoRV_cut=DNA_new[:198]#截取EcoRV酶切位点上流片段\n",
    "print(EcoRV_cut)"
   ]
  },
  {
   "cell_type": "code",
   "execution_count": 14,
   "id": "f2bd8715",
   "metadata": {},
   "outputs": [
    {
     "name": "stdout",
     "output_type": "stream",
     "text": [
      "43\n"
     ]
    }
   ],
   "source": [
    "Mlul_cut_place=DNA_new.find('ACGCGT')#计算Mlul切割位点\n",
    "print(Mlul_cut_place)"
   ]
  },
  {
   "cell_type": "code",
   "execution_count": 15,
   "id": "c7a5ab02",
   "metadata": {},
   "outputs": [
    {
     "name": "stdout",
     "output_type": "stream",
     "text": [
      "GAATTCCTCGAGCTAGCGGATCCCACCATGGTGAGCAAGGGCG\n"
     ]
    }
   ],
   "source": [
    "Mlul_cut=DNA_new[:43]#截取EcoRV酶切位点上流片段\n",
    "print(Mlul_cut)"
   ]
  },
  {
   "cell_type": "code",
   "execution_count": null,
   "id": "afb01a80",
   "metadata": {},
   "outputs": [],
   "source": []
  }
 ],
 "metadata": {
  "kernelspec": {
   "display_name": "Python 3",
   "language": "python",
   "name": "python3"
  },
  "language_info": {
   "codemirror_mode": {
    "name": "ipython",
    "version": 3
   },
   "file_extension": ".py",
   "mimetype": "text/x-python",
   "name": "python",
   "nbconvert_exporter": "python",
   "pygments_lexer": "ipython3",
   "version": "3.8.8"
  }
 },
 "nbformat": 4,
 "nbformat_minor": 5
}
